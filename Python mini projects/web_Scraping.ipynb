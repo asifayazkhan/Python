{
 "cells": [
  {
   "cell_type": "code",
   "execution_count": 2,
   "metadata": {},
   "outputs": [],
   "source": [
    "import requests\n",
    "from bs4 import BeautifulSoup\n",
    " \n",
    "page = requests.get('https://piv.tetrapak.com/StartPage.aspx') # Getting page HTML through request\n",
    "soup = BeautifulSoup(page.content, 'html.parser') # Parsing content using beautifulsoup\n",
    " \n",
    "links = soup.select(\"table tbody tr td.titleColumn a\") # Selecting all of the anchors with titles\n",
    "first10 = links[:20] # Keep only the first 10 anchors\n",
    "for anchor in first10:\n",
    "    print(anchor.text) # Display the innerText of each anchor"
   ]
  }
 ],
 "metadata": {
  "interpreter": {
   "hash": "ac59ebe37160ed0dfa835113d9b8498d9f09ceb179beaac4002f036b9467c963"
  },
  "kernelspec": {
   "display_name": "Python 3.9.5 64-bit",
   "language": "python",
   "name": "python3"
  },
  "language_info": {
   "codemirror_mode": {
    "name": "ipython",
    "version": 3
   },
   "file_extension": ".py",
   "mimetype": "text/x-python",
   "name": "python",
   "nbconvert_exporter": "python",
   "pygments_lexer": "ipython3",
   "version": "3.9.5"
  },
  "orig_nbformat": 4
 },
 "nbformat": 4,
 "nbformat_minor": 2
}
