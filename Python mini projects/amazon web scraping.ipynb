{
 "cells": [
  {
   "cell_type": "code",
   "execution_count": 1,
   "metadata": {},
   "outputs": [],
   "source": [
    "from bs4 import BeautifulSoup\n",
    "import requests\n",
    "import time\n",
    "import datetime\n",
    "\n",
    "import smtplib"
   ]
  },
  {
   "cell_type": "code",
   "execution_count": 51,
   "metadata": {},
   "outputs": [
    {
     "name": "stdout",
     "output_type": "stream",
     "text": [
      "the title of product is :  \n",
      "                   Harbor Bay by DXL Big and Tall\n",
      "                  \n",
      "the rating of product is :  \n",
      "                       4.5 out of 5 stars\n",
      "                      \n",
      "the price of product is :  \n",
      "                     $35.00\n",
      "                    \n",
      "the total reviews of product are :  \n",
      "                    345 ratings\n",
      "                   \n"
     ]
    }
   ],
   "source": [
    "# Connect to Website and pull in data\n",
    "\n",
    "URL = 'https://www.amazon.com/Harbor-Bay-Crewneck-T-Shirts-5XLTall/dp/B00A3HLF9A/ref=sr_1_2?crid=1F8GL99I6D9VX&keywords=data+tshirt+men&qid=1645994016&rnid=2941120011&s=apparel&sprefix=data+tshirt%2Caps%2C585&sr=1-2'\n",
    "\n",
    "headers = {\"User-Agent\": \"Mozilla/5.0 (Windows NT 10.0; Win64; x64) AppleWebKit/537.36 (KHTML, like Gecko) Chrome/98.0.4758.102 Safari/537.36\", \"Accept-Encoding\":\"gzip, deflate\", \"Accept\":\"text/html,application/xhtml+xml,application/xml;q=0.9,*/*;q=0.8\", \"DNT\":\"1\",\"Connection\":\"close\", \"Upgrade-Insecure-Requests\":\"1\"}\n",
    "\n",
    "page = requests.get(URL, headers=headers)\n",
    "\n",
    "soup1 = BeautifulSoup(page.content, \"html.parser\")\n",
    "soup2 = BeautifulSoup(soup1.prettify(), \"html.parser\")\n",
    "title = soup2.find(id='productTitle').get_text()\n",
    "review = soup2.find(\"span\", {\"class\":\"a-icon-alt\"}).get_text()\n",
    "price = soup2.find(\"span\", {\"class\":\"a-offscreen\"}).get_text()\n",
    "total_reviews= soup2.find(id=\"acrCustomerReviewText\").get_text()\n",
    "print(\"the title of product is : \" ,title)\n",
    "print(\"the rating of product is : \" ,review)\n",
    "print(\"the price of product is : \" ,price)\n",
    "print(\"the total reviews of product are : \" ,total_reviews)\n",
    "\n"
   ]
  }
 ],
 "metadata": {
  "interpreter": {
   "hash": "ac59ebe37160ed0dfa835113d9b8498d9f09ceb179beaac4002f036b9467c963"
  },
  "kernelspec": {
   "display_name": "Python 3.9.5 64-bit",
   "language": "python",
   "name": "python3"
  },
  "language_info": {
   "codemirror_mode": {
    "name": "ipython",
    "version": 3
   },
   "file_extension": ".py",
   "mimetype": "text/x-python",
   "name": "python",
   "nbconvert_exporter": "python",
   "pygments_lexer": "ipython3",
   "version": "3.9.5"
  },
  "orig_nbformat": 4
 },
 "nbformat": 4,
 "nbformat_minor": 2
}
