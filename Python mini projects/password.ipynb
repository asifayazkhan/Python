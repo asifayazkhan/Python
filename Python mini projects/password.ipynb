{
 "cells": [
  {
   "cell_type": "code",
   "execution_count": 87,
   "metadata": {},
   "outputs": [
    {
     "name": "stdout",
     "output_type": "stream",
     "text": [
      "your password is :   $Lbw}zoyK*2El83\n"
     ]
    }
   ],
   "source": [
    "import random\n",
    "num = \"0123456789\"\n",
    "alph = \"abcdefghijklmnopqrstuvwxyz\"\n",
    "capalp = \"ABCDEFGHIJKLMNOPQRSTUVWXYZ\"\n",
    "sp = \"@#$%&*}{_-\"\n",
    "password = num+alph+capalp+sp\n",
    "dig = 15\n",
    "\n",
    "pas = \"\".join(random.sample(password,dig))\n",
    "print(\"your password is :  \",pas)\n"
   ]
  }
 ],
 "metadata": {
  "interpreter": {
   "hash": "ac59ebe37160ed0dfa835113d9b8498d9f09ceb179beaac4002f036b9467c963"
  },
  "kernelspec": {
   "display_name": "Python 3.9.5 64-bit",
   "language": "python",
   "name": "python3"
  },
  "language_info": {
   "codemirror_mode": {
    "name": "ipython",
    "version": 3
   },
   "file_extension": ".py",
   "mimetype": "text/x-python",
   "name": "python",
   "nbconvert_exporter": "python",
   "pygments_lexer": "ipython3",
   "version": "3.9.5"
  },
  "orig_nbformat": 4
 },
 "nbformat": 4,
 "nbformat_minor": 2
}
